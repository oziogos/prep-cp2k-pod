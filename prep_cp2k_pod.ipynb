{
 "cells": [
  {
   "cell_type": "code",
   "execution_count": null,
   "metadata": {},
   "outputs": [],
   "source": [
    "from src.utils import *\n",
    "from data.config import *"
   ]
  },
  {
   "cell_type": "code",
   "execution_count": null,
   "metadata": {},
   "outputs": [],
   "source": [
    "# exploratory calculations on anthracene dimers\n",
    "# including the hpc dictionary argument will print appropriate submission script input for cluster calculations\n",
    "wfn_restart_dict=create_input(HAB7minus,'anthracene_charged',driver,'PBE-GTH',hpc={'arch':'aprun','cores':192})"
   ]
  },
  {
   "cell_type": "code",
   "execution_count": null,
   "metadata": {},
   "outputs": [],
   "source": [
    "# restarting scf run using PBE wavefunction\n",
    "_=create_input(HAB7minus,'anthracene_charged',driver,'PBE0-GTH',hpc={'arch':'aprun','cores':192},restart=wfn_restart_dict)"
   ]
  },
  {
   "cell_type": "code",
   "execution_count": null,
   "metadata": {},
   "outputs": [],
   "source": [
    "# restarting scf run using PBE wavefunction\n",
    "_=create_input(HAB7minus,'anthracene_charged',driver,'HSE06-GTH',hpc={'arch':'aprun','cores':192},restart=wfn_restart_dict)"
   ]
  },
  {
   "cell_type": "code",
   "execution_count": null,
   "metadata": {},
   "outputs": [],
   "source": [
    "# neutral dimers\n",
    "wfn_restart_dict=create_input(HAB7minus,'anthracene_neutral',driver,'PBE-GTH',hpc={'arch':'aprun','cores':192})"
   ]
  },
  {
   "cell_type": "code",
   "execution_count": null,
   "metadata": {},
   "outputs": [],
   "source": [
    "# restarting scf run using PBE wavefunction\n",
    "_=create_input(HAB7minus,'anthracene_neutral',driver,'PBE0-GTH',hpc={'arch':'aprun','cores':192},restart=wfn_restart_dict)"
   ]
  },
  {
   "cell_type": "code",
   "execution_count": null,
   "metadata": {},
   "outputs": [],
   "source": [
    "# restarting scf run using PBE wavefunction\n",
    "_=create_input(HAB7minus,'anthracene_neutral',driver,'HSE06-GTH',hpc={'arch':'aprun','cores':192},restart=wfn_restart_dict)"
   ]
  },
  {
   "cell_type": "code",
   "execution_count": null,
   "metadata": {},
   "outputs": [],
   "source": [
    "# generate neutral PBE input for the HAB7- database\n",
    "for i in [\n",
    "    'anthracene_neutral',\n",
    "    'tetracene_neutral',\n",
    "    'pentacene_neutral',\n",
    "    'perylene_neutral',\n",
    "    'anthraceneF_neutral',\n",
    "    'perylene_diimide_neutral',\n",
    "    'porphyrin_neutral'\n",
    "]:\n",
    "    _=create_input(HAB7minus,i,driver,'PBE-GTH',hpc={'arch':'aprun','cores':192})"
   ]
  }
 ],
 "metadata": {
  "kernelspec": {
   "display_name": "Python 3",
   "language": "python",
   "name": "python3"
  },
  "language_info": {
   "codemirror_mode": {
    "name": "ipython",
    "version": 3
   },
   "file_extension": ".py",
   "mimetype": "text/x-python",
   "name": "python",
   "nbconvert_exporter": "python",
   "pygments_lexer": "ipython3",
   "version": "3.7.5"
  }
 },
 "nbformat": 4,
 "nbformat_minor": 4
}
