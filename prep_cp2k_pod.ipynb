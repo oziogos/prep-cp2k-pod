{
 "cells": [
  {
   "cell_type": "code",
   "execution_count": null,
   "metadata": {},
   "outputs": [],
   "source": [
    "from src.utils import *\n",
    "from data.config import *"
   ]
  },
  {
   "cell_type": "code",
   "execution_count": null,
   "metadata": {},
   "outputs": [],
   "source": [
    "# define basis and potential\n",
    "basis='DZVP-GTH'\n",
    "potential='GTH-PBE'"
   ]
  },
  {
   "cell_type": "code",
   "execution_count": null,
   "metadata": {},
   "outputs": [],
   "source": [
    "# exploratory calculations on anthracene dimers\n",
    "# including the hpc dictionary argument will print appropriate submission script input for cluster calculations\n",
    "wfn_restart_dict=create_input(HAB7minus,'anthracene_charged',driver,'PBE-GTH',basis,potential,hpc={'arch':'aprun','cores':192})"
   ]
  },
  {
   "cell_type": "code",
   "execution_count": null,
   "metadata": {},
   "outputs": [],
   "source": [
    "# restarting scf run using PBE wavefunction\n",
    "_=create_input(HAB7minus,'anthracene_charged',driver,'PBE0-GTH',basis,potential,hpc={'arch':'aprun','cores':192},restart=wfn_restart_dict)"
   ]
  },
  {
   "cell_type": "code",
   "execution_count": null,
   "metadata": {},
   "outputs": [],
   "source": [
    "# restarting scf run using PBE wavefunction\n",
    "_=create_input(HAB7minus,'anthracene_charged',driver,'HSE06-GTH',basis,potential,hpc={'arch':'aprun','cores':192},restart=wfn_restart_dict)"
   ]
  },
  {
   "cell_type": "code",
   "execution_count": null,
   "metadata": {},
   "outputs": [],
   "source": [
    "# neutral dimers\n",
    "wfn_restart_dict=create_input(HAB7minus,'anthracene_neutral',driver,'PBE-GTH',basis,potential,hpc={'arch':'aprun','cores':192})"
   ]
  },
  {
   "cell_type": "code",
   "execution_count": null,
   "metadata": {},
   "outputs": [],
   "source": [
    "# restarting scf run using PBE wavefunction\n",
    "_=create_input(HAB7minus,'anthracene_neutral',driver,'PBE0-GTH',basis,potential,hpc={'arch':'aprun','cores':192},restart=wfn_restart_dict)"
   ]
  },
  {
   "cell_type": "code",
   "execution_count": null,
   "metadata": {},
   "outputs": [],
   "source": [
    "# restarting scf run using PBE wavefunction\n",
    "_=create_input(HAB7minus,'anthracene_neutral',driver,'HSE06-GTH',basis,potential,hpc={'arch':'aprun','cores':192},restart=wfn_restart_dict)"
   ]
  },
  {
   "cell_type": "code",
   "execution_count": null,
   "metadata": {},
   "outputs": [],
   "source": [
    "# generate neutral PBE input for the HAB7- database\n",
    "for i in [\n",
    "    'anthracene_neutral',\n",
    "    'tetracene_neutral',\n",
    "    'pentacene_neutral',\n",
    "    'perylene_neutral',\n",
    "    'anthraceneF_neutral',\n",
    "    'perylene_diimide_neutral',\n",
    "    'porphyrin_neutral'\n",
    "]:\n",
    "    _=create_input(HAB7minus,i,driver,'PBE-GTH',basis,potential,hpc={'arch':'aprun','cores':192})"
   ]
  },
  {
   "cell_type": "code",
   "execution_count": null,
   "metadata": {},
   "outputs": [],
   "source": [
    "# define basis and potential\n",
    "basis='DZVP-GTH'\n",
    "potential='GTH-PBE'\n",
    "for i in [\n",
    "    'pyrene_neutral',\n",
    "    'pyrene_Ac2_neutral',\n",
    "    'pyrene_db_neutral',]:\n",
    "    # original PBE calculation\n",
    "    _=create_input(pyrene_dataset,i,driver,'PBE-GTH',basis,potential,hpc={'arch':'aprun','cores':192})"
   ]
  },
  {
   "cell_type": "code",
   "execution_count": null,
   "metadata": {},
   "outputs": [],
   "source": [
    "# define basis and potential\n",
    "basis='TZVP-GTH'\n",
    "potential='GTH-PBE'\n",
    "# original PBE calculation\n",
    "wfn_restart_dict=create_input(pyrene_dataset,'pyrene_db_neutral',driver,'PBE-GTH',basis,potential,hpc={'arch':'aprun','cores':192})\n",
    "# restarting scf run using PBE wavefunction: PBE0\n",
    "_=create_input(pyrene_dataset,'pyrene_db_neutral',driver,'PBE0-GTH',basis,potential,hpc={'arch':'aprun','cores':192},restart=wfn_restart_dict)\n",
    "# HSE06\n",
    "_=create_input(pyrene_dataset,'pyrene_db_neutral',driver,'HSE06-GTH',basis,potential,hpc={'arch':'aprun','cores':192},restart=wfn_restart_dict)\n",
    "# LRC-wPBEh\n",
    "_=create_input(pyrene_dataset,'pyrene_db_neutral',driver,'LRC-wPBEh-GTH',basis,potential,hpc={'arch':'aprun','cores':192},restart=wfn_restart_dict)"
   ]
  },
  {
   "cell_type": "code",
   "execution_count": null,
   "metadata": {},
   "outputs": [],
   "source": [
    "# define basis and potential\n",
    "basis='TZVP-GTH'\n",
    "potential='GTH-BLYP'\n",
    "# original BLYP calculation\n",
    "wfn_restart_dict=create_input(pyrene_dataset,'pyrene_db_neutral',driver,'BLYP-GTH',basis,potential,hpc={'arch':'aprun','cores':192})\n",
    "# restarting scf run using PBE wavefunction: B3LYP\n",
    "_=create_input(pyrene_dataset,'pyrene_db_neutral',driver,'B3LYP-GTH',basis,potential,hpc={'arch':'aprun','cores':192},restart=wfn_restart_dict)\n",
    "# wB97x\n",
    "_=create_input(pyrene_dataset,'pyrene_db_neutral',driver,'wB97x-GTH',basis,potential,hpc={'arch':'aprun','cores':192},restart=wfn_restart_dict)"
   ]
  }
 ],
 "metadata": {
  "kernelspec": {
   "display_name": "Python 3",
   "language": "python",
   "name": "python3"
  },
  "language_info": {
   "codemirror_mode": {
    "name": "ipython",
    "version": 3
   },
   "file_extension": ".py",
   "mimetype": "text/x-python",
   "name": "python",
   "nbconvert_exporter": "python",
   "pygments_lexer": "ipython3",
   "version": "3.7.5"
  }
 },
 "nbformat": 4,
 "nbformat_minor": 4
}
